{
 "cells": [
  {
   "cell_type": "code",
   "execution_count": 1,
   "id": "7103a9ab-c591-46c2-b55f-c60ead96d247",
   "metadata": {},
   "outputs": [],
   "source": [
    "import rebound  # will only work if rebound is installed in your python distro\n",
    "import numpy as np  #  math stuff \n",
    "import matplotlib.pyplot as plt  # generic plotting stuff \n",
    "%matplotlib inline \n"
   ]
  },
  {
   "cell_type": "markdown",
   "id": "e1d31e89-6910-4821-b919-4ae9cdb140ce",
   "metadata": {},
   "source": [
    "### Based on Numerical problem for Problem set #5\n",
    "\n",
    "In this problem, we will create a star cluster that described by  a Plummer model,  \n",
    "https://en.wikipedia.org/wiki/Plummer_model .\n",
    "\n",
    "The Plummer model is modified so that particles are kept within a particular radius. "
   ]
  },
  {
   "cell_type": "code",
   "execution_count": null,
   "id": "7b1b37a7-aaca-457f-8b12-91807f617b20",
   "metadata": {},
   "outputs": [],
   "source": []
  },
  {
   "cell_type": "code",
   "execution_count": 58,
   "id": "1bb2e9e7-6ffb-498c-96fa-ae94ab49b6c8",
   "metadata": {},
   "outputs": [
    {
     "name": "stdout",
     "output_type": "stream",
     "text": [
      "vt = 1.7e+00\n",
      "16/3pi = 1.70\n",
      "3pi/64 = 0.15\n",
      "total KE 1.41e-01 r_V=2.82e-01\n"
     ]
    }
   ],
   "source": [
    "from scipy import interpolate   # needed so we can use interp1d in the Plummer initial conditions generating routine\n",
    "\n",
    "def Plummer(N, r0, totmass, G,rlim,seed=None):\n",
    "    \"\"\"Generate the initial conditions for an isotropic Plummer model (BT eqs. 4.83 with n=5, 4.92, 2.44b).\n",
    "    modified from the routine by J Bailin on this repository https://github.com/jbailinua/gravhopper\n",
    "    Apparently rebound's python version lacks the plummer model initial condition generation code that is available in the c-version\n",
    "    I am adding a cutoff for a maximum radius which should help with display in rebound    \n",
    "    Parameters\n",
    "    ----------\n",
    "    N  :     (int) Number of particles\n",
    "    r0 :     (float) Cluster scale radius (This appears to be the Plummer radius not the virial radius)\n",
    "    totmass: (float) Total cluster mass\n",
    "    G:       (float) gravitational constant \n",
    "    rlim:    (float) discard particles that have radius from the center larger than rlim \n",
    "    seed : None, or (int), \n",
    "            Seed to initialize random number generator so as to enable repeatable initial conditions\n",
    "            \n",
    "    Returns\n",
    "    -------\n",
    "    xarr,yarr,zarr,vxarr,vyarr,vzarr,mass each as 1d N length float arrays  \n",
    "    \"\"\"\n",
    "\n",
    "    xarr = np.zeros(N)\n",
    "    yarr = np.zeros(N)\n",
    "    zarr = np.zeros(N)\n",
    "    vxarr = np.zeros(N)\n",
    "    vyarr = np.zeros(N)\n",
    "    vzarr = np.zeros(N)\n",
    "\n",
    "    if (seed is None):\n",
    "        from datetime import datetime\n",
    "        seed = int(datetime.now().timestamp())  # if you want a randomly chosen set \n",
    "\n",
    "    rng = np.random.default_rng(seed) # random number generator in python\n",
    "    nparticles = 0\n",
    "    # loop adding particles, check whether we accept the particle until we reach N particles \n",
    "    while (nparticles < N):\n",
    "        # generate random coordinates and velocities. Uses the law of\n",
    "        # transformation of probabilities.\n",
    "        rad_xi = rng.uniform(0.0, 1.0) # uniform distribution \n",
    "        radius = r0 / np.sqrt(rad_xi**(-2./3) - 1)   # r0 used here!\n",
    "        costheta = rng.uniform(-1.0, 1.0)\n",
    "        phi = rng.uniform(0.0, 2.0*np.pi)\n",
    "        sintheta = np.sqrt(1.0 - costheta**2)\n",
    "        x = radius * sintheta * np.cos(phi) # particle positions!\n",
    "        y = radius * sintheta * np.sin(phi)\n",
    "        z = radius * costheta\n",
    "        r = np.sqrt(x*x + y*y + z*z)\n",
    "        if (r < rlim):  # accept particle if r is within this \n",
    "            xarr[nparticles] = x\n",
    "            yarr[nparticles] = y\n",
    "            zarr[nparticles] = z\n",
    "            # we need to chose the velocity component numerically\n",
    "            # from Aarseth+ 1974, we want to draw q from q^2 (1-q^2)^(7/2)\n",
    "            # and then assign the magnitude of v to be\n",
    "            # v = q sqrt(2) (1 + r^2/b^2)^(-1/4)\n",
    "            qax = np.arange(0, 1.01, 0.01)\n",
    "            q_prob = qax**2 * (1. - qax**2)**(3.5)\n",
    "            q_cumprob = np.cumsum(q_prob) # cumulative probability\n",
    "            q_cumprob /= q_cumprob[-1]    # normalized correctly to end up at 1\n",
    "            probtransform = interpolate.interp1d(q_cumprob, qax)   # reverse interpolation  # needs scipy.interpolate.interp1d \n",
    "            # now get the uniform random deviate and transform it\n",
    "            vel_xi = rng.uniform(0.0, 1.0) # , size=N)\n",
    "            q = probtransform(vel_xi)\n",
    "            velocity = q * np.sqrt(2. * G * totmass / r0) * (1. + (radius/r0)**2)**(-0.25)\n",
    "            cosveltheta = rng.uniform(-1.0, 1.0)\n",
    "            velphi = rng.uniform(0.0, 2.0*np.pi)\n",
    "            sinveltheta = np.sqrt(1.0 - cosveltheta**2)\n",
    "            vx = velocity * sinveltheta * np.cos(velphi) # particle velocities!\n",
    "            vy = velocity * sinveltheta * np.sin(velphi)\n",
    "            vz = velocity * cosveltheta\n",
    "            vxarr[nparticles] = vx\n",
    "            vyarr[nparticles] = vy\n",
    "            vzarr[nparticles] = vz\n",
    "            nparticles +=1\n",
    "\n",
    "    mass = np.ones((N)) * (totmass/N) # generate particle masses\n",
    "    \n",
    "    v2 = vxarr**2 + vyarr**2 + vzarr**2\n",
    "    # compute total kinetic energy \n",
    "    total_K = np.sum(mass*v2/2)\n",
    "    V_virial = 2*total_K\n",
    "    r_V = V_virial/(G*totmass)\n",
    "    print('total KE {:.2e} r_V={:.2e}'.format(total_K,r_V))\n",
    "    # return arrays, note no particle radius yet \n",
    "    return xarr,yarr,zarr,vxarr,vyarr,vzarr,mass \n",
    "\n",
    "\n",
    "testit = 1\n",
    "if (testit==1):  # for testing the above routine to see if it works!\n",
    "    M_cluster = 1; R_cluster = 1; N=300; G=1.0\n",
    "    r0 = 16./(3.*np.pi)*R_cluster;   # Characteristic length scale\n",
    "    # this means that R_cluster is the Plummer radius, and r0 is the virial radius? \n",
    "    print('vt = {:.1e}'.format(r0))\n",
    "    print('16/3pi = {:.2f}'.format(16./(3.*np.pi)))\n",
    "    print('3pi/64 = {:.2f}'.format(3*np.pi/64.0))\n",
    "    rlim = 10*r0\n",
    "    x,y,z,vx,vy,vz,mass  = Plummer(N, 1, M_cluster, G,rlim, seed=None)\n",
    "    # If I give radius of 1, then I get KE energy of 3pi/64 which should be the same as total energy in units of Plummer radius\n",
    "    # so I think that input radius here is Plummer radius not the virial radius\n",
    "    \n",
    "\n",
    "# return a list of x,y positions and radii from cluster center as a function of time \n",
    "# here sim is a rebound simulation class structure\n",
    "def getxyr(sim):\n",
    "    xarr = np.zeros(sim.N)\n",
    "    yarr = np.zeros(sim.N)\n",
    "    rarr = np.zeros(sim.N)\n",
    "    for i in range(sim.N):\n",
    "        xarr[i] = sim.particles[i].x\n",
    "        yarr[i] = sim.particles[i].y\n",
    "        r2 = sim.particles[i].x*sim.particles[i].x + sim.particles[i].y*sim.particles[i].y \\\n",
    "            + sim.particles[i].z*sim.particles[i].z\n",
    "        rarr[i] = np.sqrt(r2)\n",
    "    return xarr,yarr,rarr\n"
   ]
  },
  {
   "cell_type": "code",
   "execution_count": 66,
   "id": "af6167a7-dfa5-4e6b-b42e-5a4a9bc518ff",
   "metadata": {},
   "outputs": [],
   "source": [
    "# set up a simulation with \n",
    "# arguments:\n",
    "#   N: number of cluster particles, \n",
    "#   M_cluster: total mass of cluster \n",
    "#   R_cluster: radius of cluster , seems to be the Plummer radius \n",
    "#   particle_density:  sets radius of particles in units of rho_0 of the cluster \n",
    "#    --- G = 1 is set, bounding box is set , initial particles are not allowed outside the box\n",
    "#   ---- tree integrator used \n",
    "# returns:\n",
    "#   sim:  the rebound simulation\n",
    "#   r0:   characteristic length scale , virial radius?\n",
    "#   t0:   relaxation time \n",
    "#   v0:   a characteristic velocity scale \n",
    "\n",
    "def create_sim(N,M_cluster,R_cluster,particle_density):\n",
    "    sim = rebound.Simulation() # create rebound simulation !\n",
    "    sim.G = 1.0\n",
    "\n",
    "    #M_cluster = 1             # total mass of the cluster\n",
    "    #R_cluster = 1;            # Plummer Radius of the cluster\n",
    "    #N = 200 # number of particles \n",
    "    E_cluster = 3./64.*np.pi*sim.G*M_cluster*M_cluster/R_cluster;   # total Energy of the cluster\n",
    "    r_v = 16./(3.*np.pi)*R_cluster;   # Characteristic length scale, is the virial radius \n",
    "    t0 = sim.G*np.power(M_cluster,5./2.)*np.power(4.*E_cluster,-3./2.)*N/np.log(0.4*N); # Relaxation time\n",
    "    print(\"Virial radius:  \\n\", r_v);\n",
    "    print(\"Characteristic time (relaxation): \\n\", t0);\n",
    "    print(\"particle mass:  \\n\", M_cluster/N);\n",
    "    v0=np.sqrt(sim.G*M_cluster/R_cluster)\n",
    "    print(\"Characteristic velocity: \\n\",v0)  # central velocity dispersion should be 1/6 GM/R \n",
    "    rho_cluster = 3.0/(4.0*np.pi)*M_cluster/R_cluster**3   # central mass density of cluster \n",
    "    print('rho_0 {:.1e}'.format(rho_cluster))\n",
    "\n",
    "    #sim.boundary   = \"open\" \n",
    "    sim.integrator    = 'LEAPFROG';   # to find list of possible integrators ?sim.integrator\n",
    "    sim.dt            = 2e-5*t0;     # timestep\n",
    "    sim.softening     = 0.01*R_cluster;    # Softening parameter\n",
    "    sim.gravity    = \"tree\"\n",
    "\n",
    "    boxsize = 30.0*R_cluster  # viewing, also relevant for tree \n",
    "    sim.configure_box(boxsize)\n",
    "    # sim.boundary = \"none\"  # by default no boundary \n",
    "\n",
    "    rlim = boxsize/2   # let's try this!\n",
    "\n",
    "    \n",
    "    # Create a bunch of particles consistent with a Plummer model with N particles \n",
    "    x,y,z,vx,vy,vz,mass  = Plummer(N, R_cluster, M_cluster, sim.G,rlim, seed=None)\n",
    "    # add these particles to the simulation \n",
    "    pradius = np.power(3.0*mass/(4.0*np.pi*particle_density), 1.0/3.0)  # compute particle radius \n",
    "    for i in range(N):\n",
    "        sim.add(m=mass[i],x=x[i],y=y[i],z=z[i],vx=vx[i],vy=vy[i],vz=vz[i],r = pradius[i],hash=i)\n",
    "\n",
    "    sim.move_to_com()  # move to center of mass \n",
    "    return sim,r0,t0,v0"
   ]
  },
  {
   "cell_type": "code",
   "execution_count": 61,
   "id": "816f5b44-d3f9-40c7-86e4-2344862b4e9f",
   "metadata": {},
   "outputs": [],
   "source": [
    "# display the simulation xy positions and radial distribution\n",
    "# if mm = 1 then show the extra massive particle in read,  otherwise don't\n",
    "def show_sim(sim,mm):\n",
    "    xarr,yarr,rarr = getxyr(sim)\n",
    "    fig,axarr = plt.subplots(1,2,figsize=(5,2))\n",
    "    axarr[0].plot(xarr,yarr,'.',ms=1)\n",
    "    if (mm==1):\n",
    "        axarr[0].plot(xarr[-1],yarr[-1],'ro')  # plot massive particle!\n",
    "    axarr[0].set_aspect('equal')\n",
    "    boxsize = sim.boxsize.x \n",
    "    axarr[0].set_ylim(-boxsize,boxsize)\n",
    "    axarr[0].set_xlim(-boxsize,boxsize)\n",
    "    jj = axarr[1].hist(rarr,bins=30,range=[0,20])\n",
    "    axarr[1].set_xlabel('r')\n",
    "    plt.show()"
   ]
  },
  {
   "cell_type": "code",
   "execution_count": 67,
   "id": "919666cc-a39e-49ae-b4a5-e7106dee1260",
   "metadata": {},
   "outputs": [
    {
     "name": "stdout",
     "output_type": "stream",
     "text": [
      "Virial radius:  \n",
      " 1.6976527263135504\n",
      "Characteristic time (relaxation): \n",
      " 138.6074263486668\n",
      "particle mass:  \n",
      " 0.0033333333333333335\n",
      "Characteristic velocity: \n",
      " 1.0\n",
      "rho_0 2.4e-01\n",
      "total KE 1.42e-01 r_V=2.83e-01\n"
     ]
    }
   ],
   "source": [
    "M_cluster = 1; R_cluster = 1; N=300\n",
    "particle_density = 1e-3\n",
    "sim_a,r0,t0,v0 = create_sim(N,M_cluster,R_cluster,particle_density)  # create a simulation with a cluster in it\n"
   ]
  },
  {
   "cell_type": "code",
   "execution_count": 68,
   "id": "37728651-ca41-4f42-9a37-2fbc6312381e",
   "metadata": {},
   "outputs": [
    {
     "data": {
      "image/png": "[encoded data removed]",
      "text/plain": [
       "<Figure size 500x200 with 2 Axes>"
      ]
     },
     "metadata": {},
     "output_type": "display_data"
    }
   ],
   "source": [
    "sim_a.integrate(1)\n",
    "show_sim(sim_a,0) # integrate to t=1, show the simulation and the radial distribution \n",
    "xarr_a_0,yarr_a_0,rarr_a_0 = getxyr(sim_a) # \n",
    "# store some arrays"
   ]
  },
  {
   "cell_type": "code",
   "execution_count": 69,
   "id": "e8fe519d-2639-4280-9579-0af08784aa2f",
   "metadata": {},
   "outputs": [
    {
     "data": {
      "image/png": "[encoded data removed]",
      "text/plain": [
       "<Figure size 500x200 with 2 Axes>"
      ]
     },
     "metadata": {},
     "output_type": "display_data"
    }
   ],
   "source": [
    "sim_a.integrate(20)\n",
    "show_sim(sim_a,0)\n",
    "xarr_a_20,yarr_a_20,rarr_a_20 = getxyr(sim_a)"
   ]
  },
  {
   "cell_type": "code",
   "execution_count": null,
   "id": "e801c00d-b997-4c61-9422-24d6c41e82da",
   "metadata": {},
   "outputs": [],
   "source": [
    "# Compute the coefficient of restitution for a pair of particles bouncing off each other\n",
    "# as a function of the velocity difference v between the two objects \n",
    "# and r the distance between them (at impact)\n",
    "# units: v  [m/s] and r [m] \n",
    "# returns the coefficient of restitution eps \n",
    "#   which is probably defined as the ratio of post and pre relative velocity magnitudes  \n",
    "def cor_bridges(r, v):\n",
    "    v32 = 0.01 # m/s velocity giving eps = 0.32, to increase damping lower this number \n",
    "    eps = 0.32*pow(abs(v)/v32 + 1e-6,-0.234) # high velocity encounters have lower coefficents of restitution\n",
    "    if eps>1.:  # keep at or below 1\n",
    "        eps=1.\n",
    "    if eps<0.01:  \n",
    "        eps=0.01  # always bounce a little bit\n",
    "    return eps\n",
    "    # eps is 0.32 at v = 0.01 m/s, eps is lower than this at higher velocities \n",
    "# You could modify this routine, or create an extra similar routine if you want to adjust the dissipation rate \n"
   ]
  },
  {
   "cell_type": "markdown",
   "id": "6de1fe66-e354-46f2-9503-94dd295183c3",
   "metadata": {},
   "source": [
    "Take a look at this:\n",
    "https://github.com/hannorein/rebound/blob/main/ipython_examples/User_Defined_Collision_Resolve.ipynb"
   ]
  },
  {
   "cell_type": "code",
   "execution_count": null,
   "id": "71ef7e0b-a18a-4048-8e88-f4beed808a4f",
   "metadata": {},
   "outputs": [],
   "source": []
  }
 ],
 "metadata": {
  "kernelspec": {
   "display_name": "Python 3 (ipykernel)",
   "language": "python",
   "name": "python3"
  },
  "language_info": {
   "codemirror_mode": {
    "name": "ipython",
    "version": 3
   },
   "file_extension": ".py",
   "mimetype": "text/x-python",
   "name": "python",
   "nbconvert_exporter": "python",
   "pygments_lexer": "ipython3",
   "version": "3.12.7"
  }
 },
 "nbformat": 4,
 "nbformat_minor": 5
}
